{
  "nbformat": 4,
  "nbformat_minor": 0,
  "metadata": {
    "colab": {
      "provenance": [],
      "authorship_tag": "ABX9TyOaLTBFu1pYkMjnsuaqa01W",
      "include_colab_link": true
    },
    "kernelspec": {
      "name": "python3",
      "display_name": "Python 3"
    },
    "language_info": {
      "name": "python"
    }
  },
  "cells": [
    {
      "cell_type": "markdown",
      "metadata": {
        "id": "view-in-github",
        "colab_type": "text"
      },
      "source": [
        "<a href=\"https://colab.research.google.com/github/Saishashank24/Excelr-NLP/blob/main/10_02_2025_2.ipynb\" target=\"_parent\"><img src=\"https://colab.research.google.com/assets/colab-badge.svg\" alt=\"Open In Colab\"/></a>"
      ]
    },
    {
      "cell_type": "code",
      "execution_count": 1,
      "metadata": {
        "colab": {
          "base_uri": "https://localhost:8080/"
        },
        "id": "jsnf8e46JGKf",
        "outputId": "b7323508-0f18-4360-e491-492f71df5a30"
      },
      "outputs": [
        {
          "output_type": "stream",
          "name": "stdout",
          "text": [
            "Collecting python-docx\n",
            "  Downloading python_docx-1.1.2-py3-none-any.whl.metadata (2.0 kB)\n",
            "Requirement already satisfied: lxml>=3.1.0 in /usr/local/lib/python3.11/dist-packages (from python-docx) (5.3.0)\n",
            "Requirement already satisfied: typing-extensions>=4.9.0 in /usr/local/lib/python3.11/dist-packages (from python-docx) (4.12.2)\n",
            "Downloading python_docx-1.1.2-py3-none-any.whl (244 kB)\n",
            "\u001b[2K   \u001b[90m━━━━━━━━━━━━━━━━━━━━━━━━━━━━━━━━━━━━━━━━\u001b[0m \u001b[32m244.3/244.3 kB\u001b[0m \u001b[31m5.0 MB/s\u001b[0m eta \u001b[36m0:00:00\u001b[0m\n",
            "\u001b[?25hInstalling collected packages: python-docx\n",
            "Successfully installed python-docx-1.1.2\n"
          ]
        }
      ],
      "source": [
        "!pip install python-docx"
      ]
    },
    {
      "cell_type": "code",
      "source": [
        "import docx"
      ],
      "metadata": {
        "id": "Ti8oEXREJJcY"
      },
      "execution_count": 2,
      "outputs": []
    },
    {
      "cell_type": "code",
      "source": [
        "doc = open(\"/content/Literature survey AT-10 FINAL.docx\",\"rb\")\n",
        "document = docx.Document(doc)\n"
      ],
      "metadata": {
        "id": "N7Trn5oQJK5E"
      },
      "execution_count": 6,
      "outputs": []
    },
    {
      "cell_type": "code",
      "source": [
        "docu=\"\"\n",
        "for para in document.paragraphs:\n",
        "  docu += para.text\n",
        "print(docu)"
      ],
      "metadata": {
        "colab": {
          "base_uri": "https://localhost:8080/"
        },
        "id": "7pQsEAY_Jdb2",
        "outputId": "d3eaa58f-f117-4492-fd4c-8dcbb4b2aa87"
      },
      "execution_count": 7,
      "outputs": [
        {
          "output_type": "stream",
          "name": "stdout",
          "text": [
            "SCHOOL OF ENGINEERINGDEPARTMENT OF AI & ML (IIIrd Year II Semester)Application Development- Web Application with Natural Language Processing & IOT Explore (MR22-1CS0264) Date:AD Guide\tAD Mentor\tAD Co-coordinator\tHOD\tDean\n"
          ]
        }
      ]
    },
    {
      "cell_type": "code",
      "source": [
        "for i in range(len(document.paragraphs)):\n",
        "  print(\"The content of the paragraph \"+ str(i)+\" is: \" + document.paragraphs[i].text+\"\\n\")"
      ],
      "metadata": {
        "colab": {
          "base_uri": "https://localhost:8080/"
        },
        "id": "HfDsCl6LLMVG",
        "outputId": "8bf51786-84e8-4e89-c089-2a427954619b"
      },
      "execution_count": 10,
      "outputs": [
        {
          "output_type": "stream",
          "name": "stdout",
          "text": [
            "The content of the paragraph 0 is: \n",
            "\n",
            "The content of the paragraph 1 is: \n",
            "\n",
            "The content of the paragraph 2 is: SCHOOL OF ENGINEERING\n",
            "\n",
            "The content of the paragraph 3 is: DEPARTMENT OF AI & ML (IIIrd Year II Semester)\n",
            "\n",
            "The content of the paragraph 4 is: Application Development- Web Application with Natural Language Processing & IOT Explore (MR22-1CS0264) Date:\n",
            "\n",
            "The content of the paragraph 5 is: \n",
            "\n",
            "The content of the paragraph 6 is: \n",
            "\n",
            "The content of the paragraph 7 is: \n",
            "\n",
            "The content of the paragraph 8 is: \n",
            "\n",
            "The content of the paragraph 9 is: \n",
            "\n",
            "The content of the paragraph 10 is: \n",
            "\n",
            "The content of the paragraph 11 is: \n",
            "\n",
            "The content of the paragraph 12 is: AD Guide\tAD Mentor\tAD Co-coordinator\tHOD\tDean\n",
            "\n"
          ]
        }
      ]
    },
    {
      "cell_type": "code",
      "source": [],
      "metadata": {
        "id": "lKXvg80PLmfm"
      },
      "execution_count": null,
      "outputs": []
    }
  ]
}